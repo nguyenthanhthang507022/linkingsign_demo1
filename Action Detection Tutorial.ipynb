{
 "cells": [
  {
   "cell_type": "markdown",
   "metadata": {},
   "source": [
    "# 1. Import and Install Dependencies"
   ]
  },
  {
   "cell_type": "code",
   "execution_count": null,
   "metadata": {},
   "outputs": [],
   "source": [
    "!pip install tensorflow==2.8.1 tensorflow-gpu==2.8.1 opencv-python mediapipe scikit-learn matplotlib"
   ]
  },
  {
   "cell_type": "code",
   "execution_count": 2,
   "metadata": {},
   "outputs": [],
   "source": [
    "import cv2\n",
    "import numpy as np\n",
    "import os\n",
    "from matplotlib import pyplot as plt\n",
    "import time\n",
    "import mediapipe as mp\n"
   ]
  },
  {
   "cell_type": "markdown",
   "metadata": {},
   "source": [
    "# 2. Keypoints using MP Holistic"
   ]
  },
  {
   "cell_type": "code",
   "execution_count": 3,
   "metadata": {},
   "outputs": [],
   "source": [
    "mp_holistic = mp.solutions.holistic # Holistic model\n",
    "mp_drawing = mp.solutions.drawing_utils # Drawing utilities"
   ]
  },
  {
   "cell_type": "code",
   "execution_count": 4,
   "metadata": {},
   "outputs": [],
   "source": [
    "def mediapipe_detection(image, model):\n",
    "    image = cv2.cvtColor(image, cv2.COLOR_BGR2RGB) # COLOR CONVERSION BGR 2 RGB\n",
    "    image.flags.writeable = False                  # Image is no longer writeable\n",
    "    results = model.process(image)                 # Make prediction\n",
    "    image.flags.writeable = True                   # Image is now writeable \n",
    "    image = cv2.cvtColor(image, cv2.COLOR_RGB2BGR) # COLOR COVERSION RGB 2 BGR\n",
    "    return image, results"
   ]
  },
  {
   "cell_type": "code",
   "execution_count": 5,
   "metadata": {},
   "outputs": [],
   "source": [
    "def draw_landmarks(image, results):\n",
    "    mp_drawing.draw_landmarks(image, results.face_landmarks, mp_holistic.FACEMESH_TESSELATION) # Draw face connections\n",
    "    mp_drawing.draw_landmarks(image, results.pose_landmarks, mp_holistic.POSE_CONNECTIONS) # Draw pose connections\n",
    "    mp_drawing.draw_landmarks(image, results.left_hand_landmarks, mp_holistic.HAND_CONNECTIONS) # Draw left hand connections\n",
    "    mp_drawing.draw_landmarks(image, results.right_hand_landmarks, mp_holistic.HAND_CONNECTIONS) # Draw right hand connections"
   ]
  },
  {
   "cell_type": "code",
   "execution_count": 6,
   "metadata": {},
   "outputs": [],
   "source": [
    "def draw_styled_landmarks(image, results):\n",
    "    # Draw face connections\n",
    "    mp_drawing.draw_landmarks(image, results.face_landmarks, mp_holistic.FACEMESH_TESSELATION, \n",
    "                             mp_drawing.DrawingSpec(color=(80,110,10), thickness=1, circle_radius=1), \n",
    "                             mp_drawing.DrawingSpec(color=(80,256,121), thickness=1, circle_radius=1)\n",
    "                             ) \n",
    "    # Draw pose connections\n",
    "    mp_drawing.draw_landmarks(image, results.pose_landmarks, mp_holistic.POSE_CONNECTIONS,\n",
    "                             mp_drawing.DrawingSpec(color=(80,22,10), thickness=2, circle_radius=4), \n",
    "                             mp_drawing.DrawingSpec(color=(80,44,121), thickness=2, circle_radius=2)\n",
    "                             ) \n",
    "    # Draw left hand connections\n",
    "    mp_drawing.draw_landmarks(image, results.left_hand_landmarks, mp_holistic.HAND_CONNECTIONS, \n",
    "                             mp_drawing.DrawingSpec(color=(121,22,76), thickness=2, circle_radius=4), \n",
    "                             mp_drawing.DrawingSpec(color=(121,44,250), thickness=2, circle_radius=2)\n",
    "                             ) \n",
    "    # Draw right hand connections  \n",
    "    mp_drawing.draw_landmarks(image, results.right_hand_landmarks, mp_holistic.HAND_CONNECTIONS, \n",
    "                             mp_drawing.DrawingSpec(color=(245,117,66), thickness=2, circle_radius=4), \n",
    "                             mp_drawing.DrawingSpec(color=(245,66,230), thickness=2, circle_radius=2)\n",
    "                             ) "
   ]
  },
  {
   "cell_type": "code",
   "execution_count": 6,
   "metadata": {},
   "outputs": [
    {
     "name": "stdout",
     "output_type": "stream",
     "text": [
      "<class 'mediapipe.python.solution_base.SolutionOutputs'>\n",
      "<class 'mediapipe.python.solution_base.SolutionOutputs'>\n",
      "<class 'mediapipe.python.solution_base.SolutionOutputs'>\n",
      "<class 'mediapipe.python.solution_base.SolutionOutputs'>\n",
      "<class 'mediapipe.python.solution_base.SolutionOutputs'>\n",
      "<class 'mediapipe.python.solution_base.SolutionOutputs'>\n",
      "<class 'mediapipe.python.solution_base.SolutionOutputs'>\n",
      "<class 'mediapipe.python.solution_base.SolutionOutputs'>\n",
      "<class 'mediapipe.python.solution_base.SolutionOutputs'>\n",
      "<class 'mediapipe.python.solution_base.SolutionOutputs'>\n",
      "<class 'mediapipe.python.solution_base.SolutionOutputs'>\n",
      "<class 'mediapipe.python.solution_base.SolutionOutputs'>\n",
      "<class 'mediapipe.python.solution_base.SolutionOutputs'>\n",
      "<class 'mediapipe.python.solution_base.SolutionOutputs'>\n",
      "<class 'mediapipe.python.solution_base.SolutionOutputs'>\n",
      "<class 'mediapipe.python.solution_base.SolutionOutputs'>\n",
      "<class 'mediapipe.python.solution_base.SolutionOutputs'>\n",
      "<class 'mediapipe.python.solution_base.SolutionOutputs'>\n",
      "<class 'mediapipe.python.solution_base.SolutionOutputs'>\n",
      "<class 'mediapipe.python.solution_base.SolutionOutputs'>\n",
      "<class 'mediapipe.python.solution_base.SolutionOutputs'>\n",
      "<class 'mediapipe.python.solution_base.SolutionOutputs'>\n",
      "<class 'mediapipe.python.solution_base.SolutionOutputs'>\n",
      "<class 'mediapipe.python.solution_base.SolutionOutputs'>\n",
      "<class 'mediapipe.python.solution_base.SolutionOutputs'>\n",
      "<class 'mediapipe.python.solution_base.SolutionOutputs'>\n",
      "<class 'mediapipe.python.solution_base.SolutionOutputs'>\n",
      "<class 'mediapipe.python.solution_base.SolutionOutputs'>\n",
      "<class 'mediapipe.python.solution_base.SolutionOutputs'>\n",
      "<class 'mediapipe.python.solution_base.SolutionOutputs'>\n",
      "<class 'mediapipe.python.solution_base.SolutionOutputs'>\n",
      "<class 'mediapipe.python.solution_base.SolutionOutputs'>\n",
      "<class 'mediapipe.python.solution_base.SolutionOutputs'>\n",
      "<class 'mediapipe.python.solution_base.SolutionOutputs'>\n",
      "<class 'mediapipe.python.solution_base.SolutionOutputs'>\n",
      "<class 'mediapipe.python.solution_base.SolutionOutputs'>\n",
      "<class 'mediapipe.python.solution_base.SolutionOutputs'>\n",
      "<class 'mediapipe.python.solution_base.SolutionOutputs'>\n",
      "<class 'mediapipe.python.solution_base.SolutionOutputs'>\n",
      "<class 'mediapipe.python.solution_base.SolutionOutputs'>\n",
      "<class 'mediapipe.python.solution_base.SolutionOutputs'>\n",
      "<class 'mediapipe.python.solution_base.SolutionOutputs'>\n",
      "<class 'mediapipe.python.solution_base.SolutionOutputs'>\n",
      "<class 'mediapipe.python.solution_base.SolutionOutputs'>\n",
      "<class 'mediapipe.python.solution_base.SolutionOutputs'>\n",
      "<class 'mediapipe.python.solution_base.SolutionOutputs'>\n",
      "<class 'mediapipe.python.solution_base.SolutionOutputs'>\n",
      "<class 'mediapipe.python.solution_base.SolutionOutputs'>\n",
      "<class 'mediapipe.python.solution_base.SolutionOutputs'>\n",
      "<class 'mediapipe.python.solution_base.SolutionOutputs'>\n",
      "<class 'mediapipe.python.solution_base.SolutionOutputs'>\n",
      "<class 'mediapipe.python.solution_base.SolutionOutputs'>\n",
      "<class 'mediapipe.python.solution_base.SolutionOutputs'>\n",
      "<class 'mediapipe.python.solution_base.SolutionOutputs'>\n",
      "<class 'mediapipe.python.solution_base.SolutionOutputs'>\n",
      "<class 'mediapipe.python.solution_base.SolutionOutputs'>\n",
      "<class 'mediapipe.python.solution_base.SolutionOutputs'>\n",
      "<class 'mediapipe.python.solution_base.SolutionOutputs'>\n",
      "<class 'mediapipe.python.solution_base.SolutionOutputs'>\n",
      "<class 'mediapipe.python.solution_base.SolutionOutputs'>\n",
      "<class 'mediapipe.python.solution_base.SolutionOutputs'>\n",
      "<class 'mediapipe.python.solution_base.SolutionOutputs'>\n",
      "<class 'mediapipe.python.solution_base.SolutionOutputs'>\n",
      "<class 'mediapipe.python.solution_base.SolutionOutputs'>\n",
      "<class 'mediapipe.python.solution_base.SolutionOutputs'>\n",
      "<class 'mediapipe.python.solution_base.SolutionOutputs'>\n",
      "<class 'mediapipe.python.solution_base.SolutionOutputs'>\n",
      "<class 'mediapipe.python.solution_base.SolutionOutputs'>\n",
      "<class 'mediapipe.python.solution_base.SolutionOutputs'>\n",
      "<class 'mediapipe.python.solution_base.SolutionOutputs'>\n",
      "<class 'mediapipe.python.solution_base.SolutionOutputs'>\n",
      "<class 'mediapipe.python.solution_base.SolutionOutputs'>\n",
      "<class 'mediapipe.python.solution_base.SolutionOutputs'>\n",
      "<class 'mediapipe.python.solution_base.SolutionOutputs'>\n",
      "<class 'mediapipe.python.solution_base.SolutionOutputs'>\n",
      "<class 'mediapipe.python.solution_base.SolutionOutputs'>\n",
      "<class 'mediapipe.python.solution_base.SolutionOutputs'>\n",
      "<class 'mediapipe.python.solution_base.SolutionOutputs'>\n",
      "<class 'mediapipe.python.solution_base.SolutionOutputs'>\n",
      "<class 'mediapipe.python.solution_base.SolutionOutputs'>\n",
      "<class 'mediapipe.python.solution_base.SolutionOutputs'>\n",
      "<class 'mediapipe.python.solution_base.SolutionOutputs'>\n",
      "<class 'mediapipe.python.solution_base.SolutionOutputs'>\n",
      "<class 'mediapipe.python.solution_base.SolutionOutputs'>\n",
      "<class 'mediapipe.python.solution_base.SolutionOutputs'>\n",
      "<class 'mediapipe.python.solution_base.SolutionOutputs'>\n",
      "<class 'mediapipe.python.solution_base.SolutionOutputs'>\n",
      "<class 'mediapipe.python.solution_base.SolutionOutputs'>\n",
      "<class 'mediapipe.python.solution_base.SolutionOutputs'>\n",
      "<class 'mediapipe.python.solution_base.SolutionOutputs'>\n",
      "<class 'mediapipe.python.solution_base.SolutionOutputs'>\n",
      "<class 'mediapipe.python.solution_base.SolutionOutputs'>\n",
      "<class 'mediapipe.python.solution_base.SolutionOutputs'>\n",
      "<class 'mediapipe.python.solution_base.SolutionOutputs'>\n",
      "<class 'mediapipe.python.solution_base.SolutionOutputs'>\n",
      "<class 'mediapipe.python.solution_base.SolutionOutputs'>\n",
      "<class 'mediapipe.python.solution_base.SolutionOutputs'>\n",
      "<class 'mediapipe.python.solution_base.SolutionOutputs'>\n",
      "<class 'mediapipe.python.solution_base.SolutionOutputs'>\n",
      "<class 'mediapipe.python.solution_base.SolutionOutputs'>\n",
      "<class 'mediapipe.python.solution_base.SolutionOutputs'>\n",
      "<class 'mediapipe.python.solution_base.SolutionOutputs'>\n",
      "<class 'mediapipe.python.solution_base.SolutionOutputs'>\n",
      "<class 'mediapipe.python.solution_base.SolutionOutputs'>\n",
      "<class 'mediapipe.python.solution_base.SolutionOutputs'>\n",
      "<class 'mediapipe.python.solution_base.SolutionOutputs'>\n",
      "<class 'mediapipe.python.solution_base.SolutionOutputs'>\n",
      "<class 'mediapipe.python.solution_base.SolutionOutputs'>\n",
      "<class 'mediapipe.python.solution_base.SolutionOutputs'>\n",
      "<class 'mediapipe.python.solution_base.SolutionOutputs'>\n",
      "<class 'mediapipe.python.solution_base.SolutionOutputs'>\n",
      "<class 'mediapipe.python.solution_base.SolutionOutputs'>\n",
      "<class 'mediapipe.python.solution_base.SolutionOutputs'>\n",
      "<class 'mediapipe.python.solution_base.SolutionOutputs'>\n",
      "<class 'mediapipe.python.solution_base.SolutionOutputs'>\n",
      "<class 'mediapipe.python.solution_base.SolutionOutputs'>\n",
      "<class 'mediapipe.python.solution_base.SolutionOutputs'>\n",
      "<class 'mediapipe.python.solution_base.SolutionOutputs'>\n",
      "<class 'mediapipe.python.solution_base.SolutionOutputs'>\n",
      "<class 'mediapipe.python.solution_base.SolutionOutputs'>\n",
      "<class 'mediapipe.python.solution_base.SolutionOutputs'>\n",
      "<class 'mediapipe.python.solution_base.SolutionOutputs'>\n",
      "<class 'mediapipe.python.solution_base.SolutionOutputs'>\n",
      "<class 'mediapipe.python.solution_base.SolutionOutputs'>\n",
      "<class 'mediapipe.python.solution_base.SolutionOutputs'>\n",
      "<class 'mediapipe.python.solution_base.SolutionOutputs'>\n",
      "<class 'mediapipe.python.solution_base.SolutionOutputs'>\n",
      "<class 'mediapipe.python.solution_base.SolutionOutputs'>\n",
      "<class 'mediapipe.python.solution_base.SolutionOutputs'>\n",
      "<class 'mediapipe.python.solution_base.SolutionOutputs'>\n",
      "<class 'mediapipe.python.solution_base.SolutionOutputs'>\n",
      "<class 'mediapipe.python.solution_base.SolutionOutputs'>\n",
      "<class 'mediapipe.python.solution_base.SolutionOutputs'>\n",
      "<class 'mediapipe.python.solution_base.SolutionOutputs'>\n",
      "<class 'mediapipe.python.solution_base.SolutionOutputs'>\n",
      "<class 'mediapipe.python.solution_base.SolutionOutputs'>\n",
      "<class 'mediapipe.python.solution_base.SolutionOutputs'>\n",
      "<class 'mediapipe.python.solution_base.SolutionOutputs'>\n",
      "<class 'mediapipe.python.solution_base.SolutionOutputs'>\n",
      "<class 'mediapipe.python.solution_base.SolutionOutputs'>\n",
      "<class 'mediapipe.python.solution_base.SolutionOutputs'>\n",
      "<class 'mediapipe.python.solution_base.SolutionOutputs'>\n",
      "<class 'mediapipe.python.solution_base.SolutionOutputs'>\n",
      "<class 'mediapipe.python.solution_base.SolutionOutputs'>\n"
     ]
    }
   ],
   "source": [
    "cap = cv2.VideoCapture(0)\n",
    "# Set mediapipe model \n",
    "with mp_holistic.Holistic(min_detection_confidence=0.5, min_tracking_confidence=0.5) as holistic:\n",
    "    while cap.isOpened():\n",
    "\n",
    "        # Read feed\n",
    "        ret, frame = cap.read()\n",
    "        frame_height, frame_width = frame.shape[:2]  # Unpack the first two elements (height, width)\n",
    "        max_x = frame_width - 1  # Indexing starts from 0, so max_x is width - 1\n",
    "        max_y = frame_height - 1\n",
    "\n",
    "        left_spacing = int((max_x - 270)/2)\n",
    "        right_spacing = max_x - left_spacing\n",
    "        cropped_frame = frame[:, left_spacing:right_spacing]\n",
    "        # Make detections\n",
    "        image, results = mediapipe_detection(cropped_frame, holistic)\n",
    "        print(results)\n",
    "        \n",
    "        # Draw landmarks\n",
    "        draw_styled_landmarks(image, results)\n",
    "\n",
    "        # Show to screen\n",
    "        cv2.imshow('OpenCV Feed', image)\n",
    "\n",
    "        # Break gracefully\n",
    "        if cv2.waitKey(10) & 0xFF == ord('q'):\n",
    "            break\n",
    "    cap.release()\n",
    "    cv2.destroyAllWindows()"
   ]
  },
  {
   "cell_type": "code",
   "execution_count": 7,
   "metadata": {},
   "outputs": [],
   "source": [
    "# FACEMESH_TESSELATION"
   ]
  },
  {
   "cell_type": "code",
   "execution_count": 9,
   "metadata": {},
   "outputs": [
    {
     "ename": "AttributeError",
     "evalue": "'NoneType' object has no attribute 'landmark'",
     "output_type": "error",
     "traceback": [
      "\u001b[1;31m---------------------------------------------------------------------------\u001b[0m",
      "\u001b[1;31mAttributeError\u001b[0m                            Traceback (most recent call last)",
      "Cell \u001b[1;32mIn[9], line 1\u001b[0m\n\u001b[1;32m----> 1\u001b[0m \u001b[38;5;28mlen\u001b[39m(\u001b[43mresults\u001b[49m\u001b[38;5;241;43m.\u001b[39;49m\u001b[43mleft_hand_landmarks\u001b[49m\u001b[38;5;241;43m.\u001b[39;49m\u001b[43mlandmark\u001b[49m)\n",
      "\u001b[1;31mAttributeError\u001b[0m: 'NoneType' object has no attribute 'landmark'"
     ]
    }
   ],
   "source": [
    "len(results.left_hand_landmarks.landmark)"
   ]
  },
  {
   "cell_type": "code",
   "execution_count": 10,
   "metadata": {},
   "outputs": [
    {
     "data": {
      "text/plain": [
       "mediapipe.python.solution_base.SolutionOutputs"
      ]
     },
     "execution_count": 10,
     "metadata": {},
     "output_type": "execute_result"
    }
   ],
   "source": [
    "results"
   ]
  },
  {
   "cell_type": "code",
   "execution_count": 11,
   "metadata": {},
   "outputs": [],
   "source": [
    "draw_landmarks(cropped_frame, results)"
   ]
  },
  {
   "cell_type": "code",
   "execution_count": 12,
   "metadata": {},
   "outputs": [
    {
     "data": {
      "text/plain": [
       "<matplotlib.image.AxesImage at 0x17282df9360>"
      ]
     },
     "execution_count": 12,
     "metadata": {},
     "output_type": "execute_result"
    },
    {
     "data": {
      "image/png": "[encoded data removed]",
      "text/plain": [
       "<Figure size 640x480 with 1 Axes>"
      ]
     },
     "metadata": {},
     "output_type": "display_data"
    }
   ],
   "source": [
    "plt.imshow(cv2.cvtColor(cropped_frame, cv2.COLOR_BGR2RGB))"
   ]
  },
  {
   "cell_type": "markdown",
   "metadata": {},
   "source": [
    "# 3. Extract Keypoint Values"
   ]
  },
  {
   "cell_type": "code",
   "execution_count": 13,
   "metadata": {},
   "outputs": [
    {
     "ename": "AttributeError",
     "evalue": "'NoneType' object has no attribute 'landmark'",
     "output_type": "error",
     "traceback": [
      "\u001b[1;31m---------------------------------------------------------------------------\u001b[0m",
      "\u001b[1;31mAttributeError\u001b[0m                            Traceback (most recent call last)",
      "Cell \u001b[1;32mIn[13], line 1\u001b[0m\n\u001b[1;32m----> 1\u001b[0m \u001b[38;5;28mlen\u001b[39m(\u001b[43mresults\u001b[49m\u001b[38;5;241;43m.\u001b[39;49m\u001b[43mleft_hand_landmarks\u001b[49m\u001b[38;5;241;43m.\u001b[39;49m\u001b[43mlandmark\u001b[49m)\n",
      "\u001b[1;31mAttributeError\u001b[0m: 'NoneType' object has no attribute 'landmark'"
     ]
    }
   ],
   "source": [
    "len(results.left_hand_landmarks.landmark)"
   ]
  },
  {
   "cell_type": "code",
   "execution_count": 7,
   "metadata": {},
   "outputs": [
    {
     "ename": "NameError",
     "evalue": "name 'results' is not defined",
     "output_type": "error",
     "traceback": [
      "\u001b[1;31m---------------------------------------------------------------------------\u001b[0m",
      "\u001b[1;31mNameError\u001b[0m                                 Traceback (most recent call last)",
      "Cell \u001b[1;32mIn[7], line 2\u001b[0m\n\u001b[0;32m      1\u001b[0m pose \u001b[38;5;241m=\u001b[39m []\n\u001b[1;32m----> 2\u001b[0m \u001b[38;5;28;01mfor\u001b[39;00m res \u001b[38;5;129;01min\u001b[39;00m \u001b[43mresults\u001b[49m\u001b[38;5;241m.\u001b[39mpose_landmarks\u001b[38;5;241m.\u001b[39mlandmark:\n\u001b[0;32m      3\u001b[0m     test \u001b[38;5;241m=\u001b[39m np\u001b[38;5;241m.\u001b[39marray([res\u001b[38;5;241m.\u001b[39mx, res\u001b[38;5;241m.\u001b[39my, res\u001b[38;5;241m.\u001b[39mz, res\u001b[38;5;241m.\u001b[39mvisibility])\n\u001b[0;32m      4\u001b[0m     pose\u001b[38;5;241m.\u001b[39mappend(test)\n",
      "\u001b[1;31mNameError\u001b[0m: name 'results' is not defined"
     ]
    }
   ],
   "source": [
    "pose = []\n",
    "for res in results.pose_landmarks.landmark:\n",
    "    test = np.array([res.x, res.y, res.z, res.visibility])\n",
    "    pose.append(test)"
   ]
  },
  {
   "cell_type": "code",
   "execution_count": 8,
   "metadata": {},
   "outputs": [
    {
     "ename": "NameError",
     "evalue": "name 'results' is not defined",
     "output_type": "error",
     "traceback": [
      "\u001b[1;31m---------------------------------------------------------------------------\u001b[0m",
      "\u001b[1;31mNameError\u001b[0m                                 Traceback (most recent call last)",
      "Cell \u001b[1;32mIn[8], line 1\u001b[0m\n\u001b[1;32m----> 1\u001b[0m pose \u001b[38;5;241m=\u001b[39m np\u001b[38;5;241m.\u001b[39marray([[res\u001b[38;5;241m.\u001b[39mx, res\u001b[38;5;241m.\u001b[39my, res\u001b[38;5;241m.\u001b[39mz, res\u001b[38;5;241m.\u001b[39mvisibility] \u001b[38;5;28;01mfor\u001b[39;00m res \u001b[38;5;129;01min\u001b[39;00m results\u001b[38;5;241m.\u001b[39mpose_landmarks\u001b[38;5;241m.\u001b[39mlandmark])\u001b[38;5;241m.\u001b[39mflatten() \u001b[38;5;28;01mif\u001b[39;00m \u001b[43mresults\u001b[49m\u001b[38;5;241m.\u001b[39mpose_landmarks \u001b[38;5;28;01melse\u001b[39;00m np\u001b[38;5;241m.\u001b[39mzeros(\u001b[38;5;241m132\u001b[39m)\n\u001b[0;32m      2\u001b[0m face \u001b[38;5;241m=\u001b[39m np\u001b[38;5;241m.\u001b[39marray([[res\u001b[38;5;241m.\u001b[39mx, res\u001b[38;5;241m.\u001b[39my, res\u001b[38;5;241m.\u001b[39mz] \u001b[38;5;28;01mfor\u001b[39;00m res \u001b[38;5;129;01min\u001b[39;00m results\u001b[38;5;241m.\u001b[39mface_landmarks\u001b[38;5;241m.\u001b[39mlandmark])\u001b[38;5;241m.\u001b[39mflatten() \u001b[38;5;28;01mif\u001b[39;00m results\u001b[38;5;241m.\u001b[39mface_landmarks \u001b[38;5;28;01melse\u001b[39;00m np\u001b[38;5;241m.\u001b[39mzeros(\u001b[38;5;241m1404\u001b[39m)\n\u001b[0;32m      3\u001b[0m lh \u001b[38;5;241m=\u001b[39m np\u001b[38;5;241m.\u001b[39marray([[res\u001b[38;5;241m.\u001b[39mx, res\u001b[38;5;241m.\u001b[39my, res\u001b[38;5;241m.\u001b[39mz] \u001b[38;5;28;01mfor\u001b[39;00m res \u001b[38;5;129;01min\u001b[39;00m results\u001b[38;5;241m.\u001b[39mleft_hand_landmarks\u001b[38;5;241m.\u001b[39mlandmark])\u001b[38;5;241m.\u001b[39mflatten() \u001b[38;5;28;01mif\u001b[39;00m results\u001b[38;5;241m.\u001b[39mleft_hand_landmarks \u001b[38;5;28;01melse\u001b[39;00m np\u001b[38;5;241m.\u001b[39mzeros(\u001b[38;5;241m21\u001b[39m\u001b[38;5;241m*\u001b[39m\u001b[38;5;241m3\u001b[39m)\n",
      "\u001b[1;31mNameError\u001b[0m: name 'results' is not defined"
     ]
    }
   ],
   "source": [
    "pose = np.array([[res.x, res.y, res.z, res.visibility] for res in results.pose_landmarks.landmark]).flatten() if results.pose_landmarks else np.zeros(132)\n",
    "face = np.array([[res.x, res.y, res.z] for res in results.face_landmarks.landmark]).flatten() if results.face_landmarks else np.zeros(1404)\n",
    "lh = np.array([[res.x, res.y, res.z] for res in results.left_hand_landmarks.landmark]).flatten() if results.left_hand_landmarks else np.zeros(21*3)\n",
    "rh = np.array([[res.x, res.y, res.z] for res in results.right_hand_landmarks.landmark]).flatten() if results.right_hand_landmarks else np.zeros(21*3)"
   ]
  },
  {
   "cell_type": "code",
   "execution_count": 8,
   "metadata": {},
   "outputs": [
    {
     "ename": "SyntaxError",
     "evalue": "expected ':' (1900910733.py, line 2)",
     "output_type": "error",
     "traceback": [
      "\u001b[1;36m  Cell \u001b[1;32mIn[8], line 2\u001b[1;36m\u001b[0m\n\u001b[1;33m    if results.face_landmarks\u001b[0m\n\u001b[1;37m                              ^\u001b[0m\n\u001b[1;31mSyntaxError\u001b[0m\u001b[1;31m:\u001b[0m expected ':'\n"
     ]
    }
   ],
   "source": [
    "face = np.array([[res.x, res.y, res.z] for res in results.face_landmarks.landmark]).flatten() \n",
    "if results.face_landmarks \n",
    "else np.zeros(1404)\n"
   ]
  },
  {
   "cell_type": "code",
   "execution_count": 9,
   "metadata": {},
   "outputs": [],
   "source": [
    "def extract_keypoints(results):\n",
    "    pose = np.array([[res.x, res.y, res.z, res.visibility] for res in results.pose_landmarks.landmark]).flatten() if results.pose_landmarks else np.zeros(33*4)\n",
    "    face = np.array([[res.x, res.y, res.z] for res in results.face_landmarks.landmark]).flatten() if results.face_landmarks else np.zeros(468*3)\n",
    "    lh = np.array([[res.x, res.y, res.z] for res in results.left_hand_landmarks.landmark]).flatten() if results.left_hand_landmarks else np.zeros(21*3)\n",
    "    rh = np.array([[res.x, res.y, res.z] for res in results.right_hand_landmarks.landmark]).flatten() if results.right_hand_landmarks else np.zeros(21*3)\n",
    "    return np.concatenate([pose, face, lh, rh])"
   ]
  },
  {
   "cell_type": "code",
   "execution_count": 18,
   "metadata": {},
   "outputs": [],
   "source": [
    "result_test = extract_keypoints(results)"
   ]
  },
  {
   "cell_type": "code",
   "execution_count": 18,
   "metadata": {},
   "outputs": [
    {
     "data": {
      "text/plain": [
       "array([ 0.48530856,  0.46520388, -2.55942154, ...,  0.        ,\n",
       "        0.        ,  0.        ])"
      ]
     },
     "execution_count": 18,
     "metadata": {},
     "output_type": "execute_result"
    }
   ],
   "source": [
    "result_test"
   ]
  },
  {
   "cell_type": "code",
   "execution_count": 19,
   "metadata": {},
   "outputs": [
    {
     "data": {
      "text/plain": [
       "1662"
      ]
     },
     "execution_count": 19,
     "metadata": {},
     "output_type": "execute_result"
    }
   ],
   "source": [
    "468*3+33*4+21*3+21*3"
   ]
  },
  {
   "cell_type": "code",
   "execution_count": 20,
   "metadata": {},
   "outputs": [],
   "source": [
    "np.save('0', result_test)"
   ]
  },
  {
   "cell_type": "code",
   "execution_count": 21,
   "metadata": {},
   "outputs": [
    {
     "data": {
      "text/plain": [
       "array([ 0.48530856,  0.46520388, -2.55942154, ...,  0.        ,\n",
       "        0.        ,  0.        ])"
      ]
     },
     "execution_count": 21,
     "metadata": {},
     "output_type": "execute_result"
    }
   ],
   "source": [
    "np.load('0.npy')"
   ]
  },
  {
   "cell_type": "markdown",
   "metadata": {},
   "source": [
    "# 4. Setup Folders for Collection"
   ]
  },
  {
   "cell_type": "code",
   "execution_count": 10,
   "metadata": {},
   "outputs": [],
   "source": [
    "# Path for exported data, numpy arrays\n",
    "DATA_PATH = os.path.join('MP_Data') \n",
    "\n",
    "# Actions that we try to detect\n",
    "actions = np.array([\"DauMat\", \"DauBung\", \"DauTay\", \"DauChan\", \"DauTai\", \"BenhTat\", \"Chua\", \"QuaBuoi\",\n",
    "        \"QuaChanh\", \"QuaCam\", \"QuaChomChom\", \"QuaLe\", \"QuaNho\", \"QuaSauRieng\", \"Chao\",\n",
    "        \"TamBiet\", \"GhenTi\", \"Nham\", \"Mach\", \"NanNi\", \"Keu\", \"Hon\"])\n",
    "\n",
    "# Thirty videos worth of data\n",
    "no_sequences = 30\n",
    "\n",
    "# Videos are going to be 30 frames in length\n",
    "sequence_length = 30"
   ]
  },
  {
   "cell_type": "code",
   "execution_count": 26,
   "metadata": {},
   "outputs": [],
   "source": [
    "# hello\n",
    "## 0\n",
    "## 1\n",
    "## 2\n",
    "## ...\n",
    "## 29\n",
    "# thanks\n",
    "\n",
    "# I love you"
   ]
  },
  {
   "cell_type": "code",
   "execution_count": 43,
   "metadata": {},
   "outputs": [],
   "source": [
    "for action in actions: \n",
    "    for sequence in range(no_sequences):\n",
    "        try: \n",
    "            os.makedirs(os.path.join(DATA_PATH, action, str(sequence)))\n",
    "        except:\n",
    "            pass"
   ]
  },
  {
   "cell_type": "markdown",
   "metadata": {},
   "source": [
    "# 5. Collect Keypoint Values for Training and Testing"
   ]
  },
  {
   "cell_type": "code",
   "execution_count": 44,
   "metadata": {},
   "outputs": [],
   "source": [
    "cap = cv2.VideoCapture(0)\n",
    "# Set mediapipe model \n",
    "with mp_holistic.Holistic(min_detection_confidence=0.5, min_tracking_confidence=0.5) as holistic:\n",
    "    \n",
    "    # NEW LOOP\n",
    "    # Loop through actions\n",
    "    for action in actions:\n",
    "        # Wait for 'k' to start the action\n",
    "        while True:\n",
    "            cv2.putText(image, 'Press \"k\" to start collecting frames for {}'.format(action), (15, 12),\n",
    "                       cv2.FONT_HERSHEY_SIMPLEX, 0.5, (0, 255, 0), 1, cv2.LINE_AA)\n",
    "            cv2.imshow('OpenCV Feed', image)\n",
    "            if cv2.waitKey(0) & 0xFF == ord('k'):\n",
    "                break  # Exit the 'k' waiting loop\n",
    "        # Loop through sequences aka videos\n",
    "        for sequence in range(no_sequences):\n",
    "            # Loop through video length aka sequence length\n",
    "            for frame_num in range(sequence_length):\n",
    "\n",
    "                # Read feed\n",
    "                ret, frame = cap.read()\n",
    "                frame_height, frame_width = frame.shape[:2]  # Unpack the first two elements (height, width)\n",
    "                max_x = frame_width - 1  # Indexing starts from 0, so max_x is width - 1\n",
    "                max_y = frame_height - 1\n",
    "\n",
    "                left_spacing = int((max_x - 270)/2)\n",
    "                right_spacing = max_x - left_spacing\n",
    "                cropped_frame = frame[:, left_spacing:right_spacing]\n",
    "                # Make detections\n",
    "                image, results = mediapipe_detection(cropped_frame, holistic)\n",
    "#                 print(results)\n",
    "\n",
    "                # Draw landmarks\n",
    "                draw_styled_landmarks(image, results)\n",
    "                \n",
    "                # NEW Apply wait logic\n",
    "                if frame_num == 0: \n",
    "                    cv2.putText(image, 'STARTING COLLECTION', (120,200), \n",
    "                               cv2.FONT_HERSHEY_SIMPLEX, 1, (0,255, 0), 4, cv2.LINE_AA)\n",
    "                    cv2.putText(image, 'Collecting frames for {} Video Number {}'.format(action, sequence), (15,12), \n",
    "                               cv2.FONT_HERSHEY_SIMPLEX, 0.5, (0, 0, 255), 1, cv2.LINE_AA)\n",
    "                    # Show to screen\n",
    "                    cv2.imshow('OpenCV Feed', image)\n",
    "                    cv2.waitKey(2000)\n",
    "                else: \n",
    "                    cv2.putText(image, 'Collecting frames for {} Video Number {}'.format(action, sequence), (15,12), \n",
    "                               cv2.FONT_HERSHEY_SIMPLEX, 0.5, (0, 0, 255), 1, cv2.LINE_AA)\n",
    "                    # Show to screen\n",
    "                    cv2.imshow('OpenCV Feed', image)\n",
    "                \n",
    "                # NEW Export keypoints\n",
    "                keypoints = extract_keypoints(results)\n",
    "                npy_path = os.path.join(DATA_PATH, action, str(sequence), str(frame_num))\n",
    "                np.save(npy_path, keypoints)\n",
    "\n",
    "                # Break gracefully\n",
    "                if cv2.waitKey(10) & 0xFF == ord('q'):\n",
    "                    break\n",
    "                    \n",
    "    cap.release()\n",
    "    cv2.destroyAllWindows()"
   ]
  },
  {
   "cell_type": "code",
   "execution_count": 45,
   "metadata": {},
   "outputs": [],
   "source": [
    "cap.release()\n",
    "cv2.destroyAllWindows()"
   ]
  },
  {
   "cell_type": "markdown",
   "metadata": {},
   "source": [
    "# 6. Preprocess Data and Create Labels and Features"
   ]
  },
  {
   "cell_type": "code",
   "execution_count": 11,
   "metadata": {},
   "outputs": [],
   "source": [
    "from sklearn.model_selection import train_test_split\n",
    "from tensorflow.keras.utils import to_categorical"
   ]
  },
  {
   "cell_type": "code",
   "execution_count": 12,
   "metadata": {},
   "outputs": [],
   "source": [
    "label_map = {label:num for num, label in enumerate(actions)}"
   ]
  },
  {
   "cell_type": "code",
   "execution_count": 13,
   "metadata": {},
   "outputs": [
    {
     "data": {
      "text/plain": [
       "{'DauMat': 0,\n",
       " 'DauBung': 1,\n",
       " 'DauTay': 2,\n",
       " 'DauChan': 3,\n",
       " 'DauTai': 4,\n",
       " 'BenhTat': 5,\n",
       " 'Chua': 6,\n",
       " 'QuaBuoi': 7,\n",
       " 'QuaChanh': 8,\n",
       " 'QuaCam': 9,\n",
       " 'QuaChomChom': 10,\n",
       " 'QuaLe': 11,\n",
       " 'QuaNho': 12,\n",
       " 'QuaSauRieng': 13,\n",
       " 'Chao': 14,\n",
       " 'TamBiet': 15,\n",
       " 'GhenTi': 16,\n",
       " 'Nham': 17,\n",
       " 'Mach': 18,\n",
       " 'NanNi': 19,\n",
       " 'Keu': 20,\n",
       " 'Hon': 21}"
      ]
     },
     "execution_count": 13,
     "metadata": {},
     "output_type": "execute_result"
    }
   ],
   "source": [
    "label_map"
   ]
  },
  {
   "cell_type": "code",
   "execution_count": 14,
   "metadata": {},
   "outputs": [],
   "source": [
    "sequences, labels = [], []\n",
    "for action in actions:\n",
    "    for sequence in range(no_sequences):\n",
    "        window = []\n",
    "        for frame_num in range(sequence_length):\n",
    "            res = np.load(os.path.join(DATA_PATH, action, str(sequence), \"{}.npy\".format(frame_num)))\n",
    "            window.append(res)\n",
    "        sequences.append(window)\n",
    "        labels.append(label_map[action])"
   ]
  },
  {
   "cell_type": "code",
   "execution_count": 28,
   "metadata": {},
   "outputs": [
    {
     "data": {
      "text/plain": [
       "(660, 30, 1662)"
      ]
     },
     "execution_count": 28,
     "metadata": {},
     "output_type": "execute_result"
    }
   ],
   "source": [
    "np.array(sequences).shape"
   ]
  },
  {
   "cell_type": "code",
   "execution_count": 29,
   "metadata": {},
   "outputs": [
    {
     "data": {
      "text/plain": [
       "(660,)"
      ]
     },
     "execution_count": 29,
     "metadata": {},
     "output_type": "execute_result"
    }
   ],
   "source": [
    "np.array(labels).shape"
   ]
  },
  {
   "cell_type": "code",
   "execution_count": 30,
   "metadata": {},
   "outputs": [],
   "source": [
    "X = np.array(sequences)"
   ]
  },
  {
   "cell_type": "code",
   "execution_count": 31,
   "metadata": {},
   "outputs": [
    {
     "data": {
      "text/plain": [
       "(660, 30, 1662)"
      ]
     },
     "execution_count": 31,
     "metadata": {},
     "output_type": "execute_result"
    }
   ],
   "source": [
    "X.shape"
   ]
  },
  {
   "cell_type": "code",
   "execution_count": 32,
   "metadata": {},
   "outputs": [],
   "source": [
    "y = to_categorical(labels).astype(int)"
   ]
  },
  {
   "cell_type": "code",
   "execution_count": 33,
   "metadata": {},
   "outputs": [
    {
     "data": {
      "text/plain": [
       "array([[1, 0, 0, ..., 0, 0, 0],\n",
       "       [1, 0, 0, ..., 0, 0, 0],\n",
       "       [1, 0, 0, ..., 0, 0, 0],\n",
       "       ...,\n",
       "       [0, 0, 0, ..., 0, 0, 1],\n",
       "       [0, 0, 0, ..., 0, 0, 1],\n",
       "       [0, 0, 0, ..., 0, 0, 1]])"
      ]
     },
     "execution_count": 33,
     "metadata": {},
     "output_type": "execute_result"
    }
   ],
   "source": [
    "y"
   ]
  },
  {
   "cell_type": "code",
   "execution_count": 34,
   "metadata": {},
   "outputs": [],
   "source": [
    "X_train, X_test, y_train, y_test = train_test_split(X, y, test_size=0.05)"
   ]
  },
  {
   "cell_type": "code",
   "execution_count": 35,
   "metadata": {},
   "outputs": [
    {
     "data": {
      "text/plain": [
       "(33, 22)"
      ]
     },
     "execution_count": 35,
     "metadata": {},
     "output_type": "execute_result"
    }
   ],
   "source": [
    "y_test.shape"
   ]
  },
  {
   "cell_type": "markdown",
   "metadata": {},
   "source": [
    "# 7. Build and Train LSTM Neural Network"
   ]
  },
  {
   "cell_type": "code",
   "execution_count": 15,
   "metadata": {},
   "outputs": [],
   "source": [
    "from tensorflow.keras.models import Sequential\n",
    "from tensorflow.keras.layers import LSTM, Dense\n",
    "from tensorflow.keras.callbacks import TensorBoard"
   ]
  },
  {
   "cell_type": "code",
   "execution_count": 16,
   "metadata": {},
   "outputs": [],
   "source": [
    "log_dir = os.path.join('Logs')\n",
    "tb_callback = TensorBoard(log_dir=log_dir)"
   ]
  },
  {
   "cell_type": "code",
   "execution_count": 17,
   "metadata": {},
   "outputs": [],
   "source": [
    "model = Sequential()\n",
    "model.add(LSTM(64, return_sequences=True, activation='relu', input_shape=(30,1662)))\n",
    "model.add(LSTM(128, return_sequences=True, activation='relu'))\n",
    "model.add(LSTM(64, return_sequences=False, activation='relu'))\n",
    "model.add(Dense(64, activation='relu'))\n",
    "model.add(Dense(32, activation='relu'))\n",
    "model.add(Dense(actions.shape[0], activation='softmax'))"
   ]
  },
  {
   "cell_type": "code",
   "execution_count": 39,
   "metadata": {},
   "outputs": [],
   "source": [
    "res = [.7, 0.2, 0.1]"
   ]
  },
  {
   "cell_type": "code",
   "execution_count": 40,
   "metadata": {},
   "outputs": [
    {
     "data": {
      "text/plain": [
       "'DauMat'"
      ]
     },
     "execution_count": 40,
     "metadata": {},
     "output_type": "execute_result"
    }
   ],
   "source": [
    "actions[np.argmax(res)]"
   ]
  },
  {
   "cell_type": "code",
   "execution_count": 41,
   "metadata": {},
   "outputs": [],
   "source": [
    "model.compile(optimizer='Adam', loss='categorical_crossentropy', metrics=['categorical_accuracy'])"
   ]
  },
  {
   "cell_type": "code",
   "execution_count": 42,
   "metadata": {
    "scrolled": true
   },
   "outputs": [
    {
     "name": "stdout",
     "output_type": "stream",
     "text": [
      "Epoch 1/100\n",
      "20/20 [==============================] - 4s 60ms/step - loss: 3.3035 - categorical_accuracy: 0.0319\n",
      "Epoch 2/100\n",
      "20/20 [==============================] - 1s 58ms/step - loss: 3.0238 - categorical_accuracy: 0.0893\n",
      "Epoch 3/100\n",
      "20/20 [==============================] - 1s 67ms/step - loss: 2.9805 - categorical_accuracy: 0.0590\n",
      "Epoch 4/100\n",
      "20/20 [==============================] - 1s 60ms/step - loss: 3.0049 - categorical_accuracy: 0.0781\n",
      "Epoch 5/100\n",
      "20/20 [==============================] - 1s 58ms/step - loss: 2.9095 - categorical_accuracy: 0.0877\n",
      "Epoch 6/100\n",
      "20/20 [==============================] - 1s 67ms/step - loss: 2.6486 - categorical_accuracy: 0.1372\n",
      "Epoch 7/100\n",
      "20/20 [==============================] - 1s 63ms/step - loss: 2.4526 - categorical_accuracy: 0.1627\n",
      "Epoch 8/100\n",
      "20/20 [==============================] - 1s 64ms/step - loss: 2.1269 - categorical_accuracy: 0.2568\n",
      "Epoch 9/100\n",
      "20/20 [==============================] - 1s 65ms/step - loss: 1.9852 - categorical_accuracy: 0.3046\n",
      "Epoch 10/100\n",
      "20/20 [==============================] - 1s 61ms/step - loss: 1.9328 - categorical_accuracy: 0.2982\n",
      "Epoch 11/100\n",
      "20/20 [==============================] - 1s 62ms/step - loss: 1.5556 - categorical_accuracy: 0.4402\n",
      "Epoch 12/100\n",
      "20/20 [==============================] - 1s 63ms/step - loss: 2.0463 - categorical_accuracy: 0.3094\n",
      "Epoch 13/100\n",
      "20/20 [==============================] - 1s 58ms/step - loss: 1.8303 - categorical_accuracy: 0.3604\n",
      "Epoch 14/100\n",
      "20/20 [==============================] - 1s 54ms/step - loss: 1.6426 - categorical_accuracy: 0.3939\n",
      "Epoch 15/100\n",
      "20/20 [==============================] - 1s 55ms/step - loss: 1.5757 - categorical_accuracy: 0.4099\n",
      "Epoch 16/100\n",
      "20/20 [==============================] - 1s 55ms/step - loss: 1.3153 - categorical_accuracy: 0.4928\n",
      "Epoch 17/100\n",
      "20/20 [==============================] - 1s 56ms/step - loss: 1.3840 - categorical_accuracy: 0.4402\n",
      "Epoch 18/100\n",
      "20/20 [==============================] - 1s 65ms/step - loss: 1.2030 - categorical_accuracy: 0.5279\n",
      "Epoch 19/100\n",
      "20/20 [==============================] - 1s 57ms/step - loss: 1.1995 - categorical_accuracy: 0.5263\n",
      "Epoch 20/100\n",
      "20/20 [==============================] - 1s 60ms/step - loss: 1.1343 - categorical_accuracy: 0.5486\n",
      "Epoch 21/100\n",
      "20/20 [==============================] - 1s 55ms/step - loss: 1.2051 - categorical_accuracy: 0.5391\n",
      "Epoch 22/100\n",
      "20/20 [==============================] - 1s 61ms/step - loss: 1.0797 - categorical_accuracy: 0.5949\n",
      "Epoch 23/100\n",
      "20/20 [==============================] - 1s 56ms/step - loss: 1.0054 - categorical_accuracy: 0.5869\n",
      "Epoch 24/100\n",
      "20/20 [==============================] - 1s 55ms/step - loss: 0.9503 - categorical_accuracy: 0.6252\n",
      "Epoch 25/100\n",
      "20/20 [==============================] - 1s 55ms/step - loss: 0.8738 - categorical_accuracy: 0.6555\n",
      "Epoch 26/100\n",
      "20/20 [==============================] - 1s 57ms/step - loss: 0.8989 - categorical_accuracy: 0.6571\n",
      "Epoch 27/100\n",
      "20/20 [==============================] - 1s 54ms/step - loss: 0.9111 - categorical_accuracy: 0.6380\n",
      "Epoch 28/100\n",
      "20/20 [==============================] - 1s 55ms/step - loss: 0.8710 - categorical_accuracy: 0.6475\n",
      "Epoch 29/100\n",
      "20/20 [==============================] - 1s 55ms/step - loss: 0.7542 - categorical_accuracy: 0.7065\n",
      "Epoch 30/100\n",
      "20/20 [==============================] - 1s 54ms/step - loss: 0.7266 - categorical_accuracy: 0.7305\n",
      "Epoch 31/100\n",
      "20/20 [==============================] - 1s 56ms/step - loss: 0.7293 - categorical_accuracy: 0.7321\n",
      "Epoch 32/100\n",
      "20/20 [==============================] - 1s 58ms/step - loss: 1.1341 - categorical_accuracy: 0.5901\n",
      "Epoch 33/100\n",
      "20/20 [==============================] - 1s 56ms/step - loss: 0.9371 - categorical_accuracy: 0.6475\n",
      "Epoch 34/100\n",
      "20/20 [==============================] - 1s 55ms/step - loss: 0.7578 - categorical_accuracy: 0.7033\n",
      "Epoch 35/100\n",
      "20/20 [==============================] - 1s 54ms/step - loss: 0.8183 - categorical_accuracy: 0.7065\n",
      "Epoch 36/100\n",
      "20/20 [==============================] - 1s 55ms/step - loss: 0.8546 - categorical_accuracy: 0.6874\n",
      "Epoch 37/100\n",
      "20/20 [==============================] - 1s 55ms/step - loss: 0.6132 - categorical_accuracy: 0.7863\n",
      "Epoch 38/100\n",
      "20/20 [==============================] - 1s 57ms/step - loss: 0.5560 - categorical_accuracy: 0.8038\n",
      "Epoch 39/100\n",
      "20/20 [==============================] - 1s 55ms/step - loss: 0.8271 - categorical_accuracy: 0.7049\n",
      "Epoch 40/100\n",
      "20/20 [==============================] - 1s 55ms/step - loss: 0.8820 - categorical_accuracy: 0.6651\n",
      "Epoch 41/100\n",
      "20/20 [==============================] - 1s 55ms/step - loss: 0.6648 - categorical_accuracy: 0.7608\n",
      "Epoch 42/100\n",
      "20/20 [==============================] - 1s 54ms/step - loss: 0.6186 - categorical_accuracy: 0.8006\n",
      "Epoch 43/100\n",
      "20/20 [==============================] - 1s 55ms/step - loss: 0.9377 - categorical_accuracy: 0.6427\n",
      "Epoch 44/100\n",
      "20/20 [==============================] - 1s 56ms/step - loss: 0.7319 - categorical_accuracy: 0.7193\n",
      "Epoch 45/100\n",
      "20/20 [==============================] - 1s 57ms/step - loss: 0.5663 - categorical_accuracy: 0.7927\n",
      "Epoch 46/100\n",
      "20/20 [==============================] - 1s 54ms/step - loss: 0.4866 - categorical_accuracy: 0.8230\n",
      "Epoch 47/100\n",
      "20/20 [==============================] - 1s 55ms/step - loss: 0.5182 - categorical_accuracy: 0.8038\n",
      "Epoch 48/100\n",
      "20/20 [==============================] - 1s 59ms/step - loss: 0.3668 - categorical_accuracy: 0.8724\n",
      "Epoch 49/100\n",
      "20/20 [==============================] - 1s 56ms/step - loss: 0.3833 - categorical_accuracy: 0.8565\n",
      "Epoch 50/100\n",
      "20/20 [==============================] - 1s 56ms/step - loss: 0.3788 - categorical_accuracy: 0.8692\n",
      "Epoch 51/100\n",
      "20/20 [==============================] - 1s 55ms/step - loss: 0.3652 - categorical_accuracy: 0.8740\n",
      "Epoch 52/100\n",
      "20/20 [==============================] - 1s 56ms/step - loss: 0.4052 - categorical_accuracy: 0.8581\n",
      "Epoch 53/100\n",
      "20/20 [==============================] - 1s 56ms/step - loss: 0.4241 - categorical_accuracy: 0.8485\n",
      "Epoch 54/100\n",
      "20/20 [==============================] - 1s 57ms/step - loss: 0.4500 - categorical_accuracy: 0.8437\n",
      "Epoch 55/100\n",
      "20/20 [==============================] - 1s 56ms/step - loss: 0.3029 - categorical_accuracy: 0.8979\n",
      "Epoch 56/100\n",
      "20/20 [==============================] - 1s 56ms/step - loss: 0.5072 - categorical_accuracy: 0.8246\n",
      "Epoch 57/100\n",
      "20/20 [==============================] - 1s 55ms/step - loss: 0.7146 - categorical_accuracy: 0.7448\n",
      "Epoch 58/100\n",
      "20/20 [==============================] - 1s 55ms/step - loss: 0.5243 - categorical_accuracy: 0.8278\n",
      "Epoch 59/100\n",
      "20/20 [==============================] - 1s 55ms/step - loss: 0.3270 - categorical_accuracy: 0.8995\n",
      "Epoch 60/100\n",
      "20/20 [==============================] - 1s 56ms/step - loss: 0.2524 - categorical_accuracy: 0.9059\n",
      "Epoch 61/100\n",
      "20/20 [==============================] - 1s 57ms/step - loss: 0.3177 - categorical_accuracy: 0.8836\n",
      "Epoch 62/100\n",
      "20/20 [==============================] - 1s 56ms/step - loss: 0.1915 - categorical_accuracy: 0.9394\n",
      "Epoch 63/100\n",
      "20/20 [==============================] - 1s 56ms/step - loss: 0.3045 - categorical_accuracy: 0.8995\n",
      "Epoch 64/100\n",
      "20/20 [==============================] - 1s 55ms/step - loss: 0.6405 - categorical_accuracy: 0.7927\n",
      "Epoch 65/100\n",
      "20/20 [==============================] - 1s 55ms/step - loss: 0.5162 - categorical_accuracy: 0.8262\n",
      "Epoch 66/100\n",
      "20/20 [==============================] - 1s 56ms/step - loss: 0.2775 - categorical_accuracy: 0.9091\n",
      "Epoch 67/100\n",
      "20/20 [==============================] - 1s 56ms/step - loss: 0.2511 - categorical_accuracy: 0.9155\n",
      "Epoch 68/100\n",
      "20/20 [==============================] - 1s 56ms/step - loss: 0.2826 - categorical_accuracy: 0.9171\n",
      "Epoch 69/100\n",
      "20/20 [==============================] - 1s 56ms/step - loss: 0.2854 - categorical_accuracy: 0.8947\n",
      "Epoch 70/100\n",
      "20/20 [==============================] - 1s 58ms/step - loss: 0.2919 - categorical_accuracy: 0.8979\n",
      "Epoch 71/100\n",
      "20/20 [==============================] - 1s 56ms/step - loss: 0.3370 - categorical_accuracy: 0.8804\n",
      "Epoch 72/100\n",
      "20/20 [==============================] - 1s 57ms/step - loss: 0.2212 - categorical_accuracy: 0.9314\n",
      "Epoch 73/100\n",
      "20/20 [==============================] - 1s 56ms/step - loss: 0.2143 - categorical_accuracy: 0.9171\n",
      "Epoch 74/100\n",
      "20/20 [==============================] - 1s 57ms/step - loss: 0.3174 - categorical_accuracy: 0.8836\n",
      "Epoch 75/100\n",
      "20/20 [==============================] - 1s 55ms/step - loss: 0.9866 - categorical_accuracy: 0.7177\n",
      "Epoch 76/100\n",
      "20/20 [==============================] - 1s 57ms/step - loss: 0.5480 - categorical_accuracy: 0.8166\n",
      "Epoch 77/100\n",
      "20/20 [==============================] - 1s 55ms/step - loss: 0.2832 - categorical_accuracy: 0.9075\n",
      "Epoch 78/100\n",
      "20/20 [==============================] - 1s 57ms/step - loss: 0.2067 - categorical_accuracy: 0.9362\n",
      "Epoch 79/100\n",
      "20/20 [==============================] - 1s 56ms/step - loss: 0.1495 - categorical_accuracy: 0.9553\n",
      "Epoch 80/100\n",
      "20/20 [==============================] - 1s 56ms/step - loss: 0.1574 - categorical_accuracy: 0.9458\n",
      "Epoch 81/100\n",
      "20/20 [==============================] - 1s 57ms/step - loss: 0.4560 - categorical_accuracy: 0.8549\n",
      "Epoch 82/100\n",
      "20/20 [==============================] - 1s 56ms/step - loss: 0.3704 - categorical_accuracy: 0.8549\n",
      "Epoch 83/100\n",
      "20/20 [==============================] - 1s 59ms/step - loss: 0.1966 - categorical_accuracy: 0.9394\n",
      "Epoch 84/100\n",
      "20/20 [==============================] - 1s 56ms/step - loss: 0.1428 - categorical_accuracy: 0.9553\n",
      "Epoch 85/100\n",
      "20/20 [==============================] - 1s 56ms/step - loss: 0.2860 - categorical_accuracy: 0.8995\n",
      "Epoch 86/100\n",
      "20/20 [==============================] - 1s 56ms/step - loss: 0.3450 - categorical_accuracy: 0.8947\n",
      "Epoch 87/100\n",
      "20/20 [==============================] - 1s 56ms/step - loss: 0.2489 - categorical_accuracy: 0.9107\n",
      "Epoch 88/100\n",
      "20/20 [==============================] - 1s 57ms/step - loss: 0.3219 - categorical_accuracy: 0.9043\n",
      "Epoch 89/100\n",
      "20/20 [==============================] - 1s 59ms/step - loss: 0.2767 - categorical_accuracy: 0.9011\n",
      "Epoch 90/100\n",
      "20/20 [==============================] - 1s 56ms/step - loss: 0.1573 - categorical_accuracy: 0.9474\n",
      "Epoch 91/100\n",
      "20/20 [==============================] - 1s 55ms/step - loss: 0.1242 - categorical_accuracy: 0.9617\n",
      "Epoch 92/100\n",
      "20/20 [==============================] - 1s 56ms/step - loss: 0.1164 - categorical_accuracy: 0.9553\n",
      "Epoch 93/100\n",
      "20/20 [==============================] - 1s 56ms/step - loss: 0.1070 - categorical_accuracy: 0.9601\n",
      "Epoch 94/100\n",
      "20/20 [==============================] - 1s 56ms/step - loss: 0.2369 - categorical_accuracy: 0.9234\n",
      "Epoch 95/100\n",
      "20/20 [==============================] - 1s 57ms/step - loss: 0.3891 - categorical_accuracy: 0.8820\n",
      "Epoch 96/100\n",
      "20/20 [==============================] - 1s 56ms/step - loss: 0.1741 - categorical_accuracy: 0.9410\n",
      "Epoch 97/100\n",
      "20/20 [==============================] - 1s 57ms/step - loss: 0.1429 - categorical_accuracy: 0.9474\n",
      "Epoch 98/100\n",
      "20/20 [==============================] - 1s 56ms/step - loss: 0.1025 - categorical_accuracy: 0.9681\n",
      "Epoch 99/100\n",
      "20/20 [==============================] - 1s 57ms/step - loss: 0.0755 - categorical_accuracy: 0.9697\n",
      "Epoch 100/100\n",
      "20/20 [==============================] - 1s 58ms/step - loss: 0.0439 - categorical_accuracy: 0.9856\n"
     ]
    },
    {
     "data": {
      "text/plain": [
       "<keras.callbacks.History at 0x179120affa0>"
      ]
     },
     "execution_count": 42,
     "metadata": {},
     "output_type": "execute_result"
    }
   ],
   "source": [
    "model.fit(X_train, y_train, epochs=100, callbacks=[tb_callback])"
   ]
  },
  {
   "cell_type": "code",
   "execution_count": 43,
   "metadata": {},
   "outputs": [
    {
     "name": "stdout",
     "output_type": "stream",
     "text": [
      "Model: \"sequential\"\n",
      "_________________________________________________________________\n",
      " Layer (type)                Output Shape              Param #   \n",
      "=================================================================\n",
      " lstm (LSTM)                 (None, 30, 64)            442112    \n",
      "                                                                 \n",
      " lstm_1 (LSTM)               (None, 30, 128)           98816     \n",
      "                                                                 \n",
      " lstm_2 (LSTM)               (None, 64)                49408     \n",
      "                                                                 \n",
      " dense (Dense)               (None, 64)                4160      \n",
      "                                                                 \n",
      " dense_1 (Dense)             (None, 32)                2080      \n",
      "                                                                 \n",
      " dense_2 (Dense)             (None, 22)                726       \n",
      "                                                                 \n",
      "=================================================================\n",
      "Total params: 597,302\n",
      "Trainable params: 597,302\n",
      "Non-trainable params: 0\n",
      "_________________________________________________________________\n"
     ]
    }
   ],
   "source": [
    "model.summary()"
   ]
  },
  {
   "cell_type": "markdown",
   "metadata": {},
   "source": [
    "# 8. Make Predictions"
   ]
  },
  {
   "cell_type": "code",
   "execution_count": 44,
   "metadata": {},
   "outputs": [],
   "source": [
    "res = model.predict(X_test)"
   ]
  },
  {
   "cell_type": "code",
   "execution_count": 45,
   "metadata": {},
   "outputs": [
    {
     "data": {
      "text/plain": [
       "'DauChan'"
      ]
     },
     "execution_count": 45,
     "metadata": {},
     "output_type": "execute_result"
    }
   ],
   "source": [
    "actions[np.argmax(res[4])]"
   ]
  },
  {
   "cell_type": "code",
   "execution_count": 46,
   "metadata": {},
   "outputs": [
    {
     "data": {
      "text/plain": [
       "'DauChan'"
      ]
     },
     "execution_count": 46,
     "metadata": {},
     "output_type": "execute_result"
    }
   ],
   "source": [
    "actions[np.argmax(y_test[4])]"
   ]
  },
  {
   "cell_type": "markdown",
   "metadata": {},
   "source": [
    "# 9. Save Weights"
   ]
  },
  {
   "cell_type": "code",
   "execution_count": 47,
   "metadata": {},
   "outputs": [],
   "source": [
    "model.save('action.h5')"
   ]
  },
  {
   "cell_type": "code",
   "execution_count": 32,
   "metadata": {},
   "outputs": [],
   "source": [
    "del model"
   ]
  },
  {
   "cell_type": "code",
   "execution_count": 18,
   "metadata": {},
   "outputs": [],
   "source": [
    "model.load_weights('action.h5')"
   ]
  },
  {
   "cell_type": "markdown",
   "metadata": {},
   "source": [
    "# 10. Evaluation using Confusion Matrix and Accuracy"
   ]
  },
  {
   "cell_type": "code",
   "execution_count": 19,
   "metadata": {},
   "outputs": [],
   "source": [
    "from sklearn.metrics import multilabel_confusion_matrix, accuracy_score"
   ]
  },
  {
   "cell_type": "code",
   "execution_count": 50,
   "metadata": {},
   "outputs": [],
   "source": [
    "yhat = model.predict(X_test)"
   ]
  },
  {
   "cell_type": "code",
   "execution_count": 51,
   "metadata": {},
   "outputs": [],
   "source": [
    "ytrue = np.argmax(y_test, axis=1).tolist()\n",
    "yhat = np.argmax(yhat, axis=1).tolist()"
   ]
  },
  {
   "cell_type": "code",
   "execution_count": 52,
   "metadata": {},
   "outputs": [
    {
     "data": {
      "text/plain": [
       "array([[[31,  0],\n",
       "        [ 0,  2]],\n",
       "\n",
       "       [[31,  0],\n",
       "        [ 0,  2]],\n",
       "\n",
       "       [[28,  0],\n",
       "        [ 0,  5]],\n",
       "\n",
       "       [[29,  0],\n",
       "        [ 0,  4]],\n",
       "\n",
       "       [[32,  0],\n",
       "        [ 0,  1]],\n",
       "\n",
       "       [[32,  0],\n",
       "        [ 0,  1]],\n",
       "\n",
       "       [[32,  1],\n",
       "        [ 0,  0]],\n",
       "\n",
       "       [[31,  0],\n",
       "        [ 1,  1]],\n",
       "\n",
       "       [[31,  0],\n",
       "        [ 0,  2]],\n",
       "\n",
       "       [[32,  0],\n",
       "        [ 1,  0]],\n",
       "\n",
       "       [[30,  0],\n",
       "        [ 0,  3]],\n",
       "\n",
       "       [[32,  0],\n",
       "        [ 0,  1]],\n",
       "\n",
       "       [[31,  0],\n",
       "        [ 0,  2]],\n",
       "\n",
       "       [[31,  0],\n",
       "        [ 0,  2]],\n",
       "\n",
       "       [[32,  0],\n",
       "        [ 0,  1]],\n",
       "\n",
       "       [[32,  0],\n",
       "        [ 0,  1]],\n",
       "\n",
       "       [[31,  0],\n",
       "        [ 0,  2]],\n",
       "\n",
       "       [[32,  0],\n",
       "        [ 1,  0]],\n",
       "\n",
       "       [[31,  2],\n",
       "        [ 0,  0]]], dtype=int64)"
      ]
     },
     "execution_count": 52,
     "metadata": {},
     "output_type": "execute_result"
    }
   ],
   "source": [
    "multilabel_confusion_matrix(ytrue, yhat)"
   ]
  },
  {
   "cell_type": "code",
   "execution_count": 53,
   "metadata": {},
   "outputs": [
    {
     "data": {
      "text/plain": [
       "0.9090909090909091"
      ]
     },
     "execution_count": 53,
     "metadata": {},
     "output_type": "execute_result"
    }
   ],
   "source": [
    "accuracy_score(ytrue, yhat)"
   ]
  },
  {
   "cell_type": "markdown",
   "metadata": {},
   "source": [
    "# 11. Test in Real Time"
   ]
  },
  {
   "cell_type": "code",
   "execution_count": 22,
   "metadata": {},
   "outputs": [],
   "source": [
    "colors = [\n",
    "    (0, 0, 0),  # Black (full red, but technically not visible)\n",
    "    (5, 0, 0),\n",
    "    (10, 0, 0),\n",
    "    (15, 0, 0),\n",
    "    (20, 0, 0),\n",
    "    (25, 0, 0),\n",
    "    (30, 0, 0),\n",
    "    (35, 0, 0),\n",
    "    (40, 0, 0),\n",
    "    (45, 0, 0),\n",
    "    (50, 0, 0),\n",
    "    (55, 0, 0),\n",
    "    (60, 0, 0),\n",
    "    (65, 0, 0),\n",
    "    (70, 0, 0),\n",
    "    (75, 0, 0),\n",
    "    (80, 0, 0),\n",
    "    (85, 0, 0),\n",
    "    (90, 0, 0),\n",
    "    (95, 0, 0),\n",
    "    (100, 0, 0),  # Darkest visible red\n",
    "    (255, 0, 0),  # Full red\n",
    "]\n",
    "def prob_viz(res, actions, input_frame, colors):\n",
    "    output_frame = input_frame.copy()\n",
    "    for num, prob in enumerate(res):\n",
    "        cv2.rectangle(output_frame, (0,60+num*40), (int(prob*100), 90+num*40), colors[num], -1)\n",
    "        cv2.putText(output_frame, actions[num], (0, 85+num*40), cv2.FONT_HERSHEY_SIMPLEX, 1, (255,255,255), 2, cv2.LINE_AA)\n",
    "        \n",
    "    return output_frame"
   ]
  },
  {
   "cell_type": "code",
   "execution_count": 21,
   "metadata": {},
   "outputs": [
    {
     "ename": "NameError",
     "evalue": "name 'image' is not defined",
     "output_type": "error",
     "traceback": [
      "\u001b[1;31m---------------------------------------------------------------------------\u001b[0m",
      "\u001b[1;31mNameError\u001b[0m                                 Traceback (most recent call last)",
      "Cell \u001b[1;32mIn[21], line 2\u001b[0m\n\u001b[0;32m      1\u001b[0m plt\u001b[38;5;241m.\u001b[39mfigure(figsize\u001b[38;5;241m=\u001b[39m(\u001b[38;5;241m18\u001b[39m,\u001b[38;5;241m18\u001b[39m))\n\u001b[1;32m----> 2\u001b[0m plt\u001b[38;5;241m.\u001b[39mimshow(prob_viz(res, actions, \u001b[43mimage\u001b[49m, colors))\n",
      "\u001b[1;31mNameError\u001b[0m: name 'image' is not defined"
     ]
    },
    {
     "data": {
      "text/plain": [
       "<Figure size 1800x1800 with 0 Axes>"
      ]
     },
     "metadata": {},
     "output_type": "display_data"
    }
   ],
   "source": [
    "plt.figure(figsize=(18,18))\n",
    "plt.imshow(prob_viz(res, actions, image, colors))"
   ]
  },
  {
   "cell_type": "code",
   "execution_count": 59,
   "metadata": {},
   "outputs": [],
   "source": [
    "sequence.reverse()"
   ]
  },
  {
   "cell_type": "code",
   "execution_count": 60,
   "metadata": {},
   "outputs": [
    {
     "data": {
      "text/plain": [
       "30"
      ]
     },
     "execution_count": 60,
     "metadata": {},
     "output_type": "execute_result"
    }
   ],
   "source": [
    "len(sequence)"
   ]
  },
  {
   "cell_type": "code",
   "execution_count": 61,
   "metadata": {},
   "outputs": [],
   "source": [
    "sequence.append('def')"
   ]
  },
  {
   "cell_type": "code",
   "execution_count": 62,
   "metadata": {},
   "outputs": [],
   "source": [
    "sequence.reverse()"
   ]
  },
  {
   "cell_type": "code",
   "execution_count": 63,
   "metadata": {
    "scrolled": true
   },
   "outputs": [
    {
     "data": {
      "text/plain": [
       "[array([ 0.41906431,  0.8560245 , -1.71773648, ...,  0.        ,\n",
       "         0.        ,  0.        ]),\n",
       " array([ 0.41914099,  0.85602558, -2.21776509, ...,  0.        ,\n",
       "         0.        ,  0.        ]),\n",
       " array([ 0.43071342,  0.84898335, -2.19956255, ...,  0.        ,\n",
       "         0.        ,  0.        ]),\n",
       " array([ 0.43708569,  0.84533185, -2.30040956, ...,  0.        ,\n",
       "         0.        ,  0.        ]),\n",
       " array([ 0.44084492,  0.83276057, -2.28367853, ...,  0.        ,\n",
       "         0.        ,  0.        ]),\n",
       " array([ 0.44368082,  0.82642329, -2.23016787, ...,  0.        ,\n",
       "         0.        ,  0.        ]),\n",
       " array([ 0.44722065,  0.82259256, -2.21815324, ...,  0.        ,\n",
       "         0.        ,  0.        ]),\n",
       " array([ 0.44930553,  0.81847262, -2.25129366, ...,  0.        ,\n",
       "         0.        ,  0.        ]),\n",
       " array([ 0.45046431,  0.81364083, -2.2106204 , ...,  0.        ,\n",
       "         0.        ,  0.        ]),\n",
       " array([ 0.45594808,  0.81114584, -2.19987941, ...,  0.        ,\n",
       "         0.        ,  0.        ]),\n",
       " array([ 0.45760605,  0.80692446, -2.09155059, ...,  0.        ,\n",
       "         0.        ,  0.        ]),\n",
       " array([ 0.45948267,  0.80707014, -2.03207135, ...,  0.        ,\n",
       "         0.        ,  0.        ]),\n",
       " array([ 0.46042064,  0.80365211, -2.03276682, ...,  0.        ,\n",
       "         0.        ,  0.        ]),\n",
       " array([ 0.46033362,  0.79936987, -2.01786351, ...,  0.        ,\n",
       "         0.        ,  0.        ]),\n",
       " array([ 0.46024612,  0.79124039, -2.02778125, ...,  0.        ,\n",
       "         0.        ,  0.        ]),\n",
       " array([ 0.46008992,  0.78603357, -2.26283836, ...,  0.        ,\n",
       "         0.        ,  0.        ]),\n",
       " array([ 0.45937225,  0.78000569, -2.60426641, ...,  0.        ,\n",
       "         0.        ,  0.        ]),\n",
       " array([ 0.45606148,  0.77453113, -2.95853662, ...,  0.        ,\n",
       "         0.        ,  0.        ]),\n",
       " array([ 0.4588742 ,  0.72486895, -3.68873954, ...,  0.        ,\n",
       "         0.        ,  0.        ]),\n",
       " array([ 0.46343279,  0.68570441, -3.87962198, ...,  0.        ,\n",
       "         0.        ,  0.        ]),\n",
       " array([ 0.46435967,  0.65624964, -3.98487592, ...,  0.        ,\n",
       "         0.        ,  0.        ]),\n",
       " array([ 0.47279274,  0.5482226 , -3.62461948, ...,  0.        ,\n",
       "         0.        ,  0.        ]),\n",
       " array([ 0.47682139,  0.50932133, -3.3701787 , ...,  0.        ,\n",
       "         0.        ,  0.        ]),\n",
       " array([ 0.48015416,  0.46927249, -3.43957353, ...,  0.        ,\n",
       "         0.        ,  0.        ]),\n",
       " array([ 0.4961639 ,  0.39388648, -3.33506703, ...,  0.        ,\n",
       "         0.        ,  0.        ]),\n",
       " array([ 0.50632256,  0.36995071, -3.26928926, ...,  0.        ,\n",
       "         0.        ,  0.        ]),\n",
       " array([ 0.53334475,  0.36545795, -3.45382142, ...,  0.        ,\n",
       "         0.        ,  0.        ]),\n",
       " array([ 0.55325818,  0.36178017, -3.59230471, ...,  0.        ,\n",
       "         0.        ,  0.        ]),\n",
       " array([ 0.55339313,  0.36836991, -3.54723501, ...,  0.        ,\n",
       "         0.        ,  0.        ]),\n",
       " array([ 0.54931122,  0.39663556, -3.87391973, ...,  0.        ,\n",
       "         0.        ,  0.        ])]"
      ]
     },
     "execution_count": 63,
     "metadata": {},
     "output_type": "execute_result"
    }
   ],
   "source": [
    "sequence[-30:]"
   ]
  },
  {
   "cell_type": "code",
   "execution_count": 35,
   "metadata": {},
   "outputs": [
    {
     "name": "stdout",
     "output_type": "stream",
     "text": [
      "<class 'mediapipe.python.solution_base.SolutionOutputs'>\n",
      "<class 'mediapipe.python.solution_base.SolutionOutputs'>\n",
      "<class 'mediapipe.python.solution_base.SolutionOutputs'>\n",
      "<class 'mediapipe.python.solution_base.SolutionOutputs'>\n",
      "<class 'mediapipe.python.solution_base.SolutionOutputs'>\n",
      "<class 'mediapipe.python.solution_base.SolutionOutputs'>\n",
      "<class 'mediapipe.python.solution_base.SolutionOutputs'>\n",
      "<class 'mediapipe.python.solution_base.SolutionOutputs'>\n",
      "<class 'mediapipe.python.solution_base.SolutionOutputs'>\n",
      "<class 'mediapipe.python.solution_base.SolutionOutputs'>\n",
      "<class 'mediapipe.python.solution_base.SolutionOutputs'>\n",
      "<class 'mediapipe.python.solution_base.SolutionOutputs'>\n",
      "<class 'mediapipe.python.solution_base.SolutionOutputs'>\n",
      "<class 'mediapipe.python.solution_base.SolutionOutputs'>\n",
      "<class 'mediapipe.python.solution_base.SolutionOutputs'>\n",
      "<class 'mediapipe.python.solution_base.SolutionOutputs'>\n",
      "<class 'mediapipe.python.solution_base.SolutionOutputs'>\n",
      "<class 'mediapipe.python.solution_base.SolutionOutputs'>\n",
      "<class 'mediapipe.python.solution_base.SolutionOutputs'>\n",
      "<class 'mediapipe.python.solution_base.SolutionOutputs'>\n",
      "<class 'mediapipe.python.solution_base.SolutionOutputs'>\n",
      "<class 'mediapipe.python.solution_base.SolutionOutputs'>\n",
      "<class 'mediapipe.python.solution_base.SolutionOutputs'>\n",
      "<class 'mediapipe.python.solution_base.SolutionOutputs'>\n",
      "<class 'mediapipe.python.solution_base.SolutionOutputs'>\n",
      "<class 'mediapipe.python.solution_base.SolutionOutputs'>\n",
      "<class 'mediapipe.python.solution_base.SolutionOutputs'>\n",
      "<class 'mediapipe.python.solution_base.SolutionOutputs'>\n",
      "<class 'mediapipe.python.solution_base.SolutionOutputs'>\n",
      "<class 'mediapipe.python.solution_base.SolutionOutputs'>\n",
      "DauMat\n",
      "<class 'mediapipe.python.solution_base.SolutionOutputs'>\n",
      "DauMat\n",
      "<class 'mediapipe.python.solution_base.SolutionOutputs'>\n",
      "DauMat\n",
      "<class 'mediapipe.python.solution_base.SolutionOutputs'>\n",
      "DauMat\n",
      "<class 'mediapipe.python.solution_base.SolutionOutputs'>\n",
      "DauMat\n",
      "<class 'mediapipe.python.solution_base.SolutionOutputs'>\n",
      "DauMat\n",
      "<class 'mediapipe.python.solution_base.SolutionOutputs'>\n",
      "DauMat\n",
      "<class 'mediapipe.python.solution_base.SolutionOutputs'>\n",
      "DauMat\n",
      "<class 'mediapipe.python.solution_base.SolutionOutputs'>\n",
      "QuaChomChom\n",
      "<class 'mediapipe.python.solution_base.SolutionOutputs'>\n",
      "QuaChomChom\n",
      "<class 'mediapipe.python.solution_base.SolutionOutputs'>\n",
      "QuaChomChom\n",
      "<class 'mediapipe.python.solution_base.SolutionOutputs'>\n",
      "QuaChomChom\n",
      "<class 'mediapipe.python.solution_base.SolutionOutputs'>\n",
      "QuaChomChom\n",
      "<class 'mediapipe.python.solution_base.SolutionOutputs'>\n",
      "QuaChomChom\n",
      "<class 'mediapipe.python.solution_base.SolutionOutputs'>\n",
      "QuaChomChom\n",
      "<class 'mediapipe.python.solution_base.SolutionOutputs'>\n",
      "QuaChomChom\n",
      "<class 'mediapipe.python.solution_base.SolutionOutputs'>\n",
      "QuaChomChom\n",
      "<class 'mediapipe.python.solution_base.SolutionOutputs'>\n",
      "DauMat\n",
      "<class 'mediapipe.python.solution_base.SolutionOutputs'>\n",
      "DauMat\n",
      "<class 'mediapipe.python.solution_base.SolutionOutputs'>\n",
      "DauMat\n",
      "<class 'mediapipe.python.solution_base.SolutionOutputs'>\n",
      "Chua\n",
      "<class 'mediapipe.python.solution_base.SolutionOutputs'>\n",
      "Chua\n",
      "<class 'mediapipe.python.solution_base.SolutionOutputs'>\n",
      "Chua\n",
      "<class 'mediapipe.python.solution_base.SolutionOutputs'>\n",
      "Chua\n",
      "<class 'mediapipe.python.solution_base.SolutionOutputs'>\n",
      "Chua\n",
      "<class 'mediapipe.python.solution_base.SolutionOutputs'>\n",
      "Keu\n",
      "<class 'mediapipe.python.solution_base.SolutionOutputs'>\n",
      "Keu\n",
      "<class 'mediapipe.python.solution_base.SolutionOutputs'>\n",
      "Keu\n",
      "<class 'mediapipe.python.solution_base.SolutionOutputs'>\n",
      "Keu\n",
      "<class 'mediapipe.python.solution_base.SolutionOutputs'>\n",
      "Keu\n",
      "<class 'mediapipe.python.solution_base.SolutionOutputs'>\n",
      "Keu\n",
      "<class 'mediapipe.python.solution_base.SolutionOutputs'>\n",
      "DauMat\n",
      "<class 'mediapipe.python.solution_base.SolutionOutputs'>\n",
      "DauMat\n",
      "<class 'mediapipe.python.solution_base.SolutionOutputs'>\n",
      "DauMat\n",
      "<class 'mediapipe.python.solution_base.SolutionOutputs'>\n",
      "DauMat\n",
      "<class 'mediapipe.python.solution_base.SolutionOutputs'>\n",
      "NanNi\n",
      "<class 'mediapipe.python.solution_base.SolutionOutputs'>\n",
      "QuaChomChom\n"
     ]
    }
   ],
   "source": [
    "# 1. New detection variables\n",
    "sequence = []\n",
    "sentence = []\n",
    "threshold = 0.8\n",
    "\n",
    "cap = cv2.VideoCapture(0)\n",
    "# Set mediapipe model \n",
    "with mp_holistic.Holistic(min_detection_confidence=0.5, min_tracking_confidence=0.5) as holistic:\n",
    "    while cap.isOpened():\n",
    "\n",
    "        # Read feed\n",
    "        ret, frame = cap.read()\n",
    "        frame_height, frame_width = frame.shape[:2]  # Unpack the first two elements (height, width)\n",
    "        max_x = frame_width - 1  # Indexing starts from 0, so max_x is width - 1\n",
    "        max_y = frame_height - 1\n",
    "\n",
    "        left_spacing = int((max_x - 270)/2)\n",
    "        right_spacing = max_x - left_spacing\n",
    "        cropped_frame = frame[:, left_spacing:right_spacing]\n",
    "        # Make detections\n",
    "        image, results = mediapipe_detection(cropped_frame, holistic)\n",
    "        print(results)\n",
    "        \n",
    "        # Draw landmarks\n",
    "        draw_styled_landmarks(image, results)\n",
    "        \n",
    "        # 2. Prediction logic\n",
    "        keypoints = extract_keypoints(results)\n",
    "#         sequence.insert(0,keypoints)\n",
    "#         sequence = sequence[:30]\n",
    "        sequence.append(keypoints)\n",
    "        sequence = sequence[-30:]\n",
    "        \n",
    "        if len(sequence) == 30:\n",
    "            res = model.predict(np.expand_dims(sequence, axis=0))[0]\n",
    "            print(actions[np.argmax(res)])\n",
    "            \n",
    "            \n",
    "        #3. Viz logic\n",
    "            if res[np.argmax(res)] > threshold: \n",
    "                if len(sentence) > 0: \n",
    "                    if actions[np.argmax(res)] != sentence[-1]:\n",
    "                        sentence.append(actions[np.argmax(res)])\n",
    "                else:\n",
    "                    sentence.append(actions[np.argmax(res)])\n",
    "\n",
    "            if len(sentence) > 5: \n",
    "                sentence = sentence[-5:]\n",
    "\n",
    "            # Viz probabilities\n",
    "            image = prob_viz(res, actions, image, colors)\n",
    "            \n",
    "        cv2.rectangle(image, (0,0), (640, 40), (245, 117, 16), -1)\n",
    "        cv2.putText(image, ' '.join(sentence), (3,30), \n",
    "                       cv2.FONT_HERSHEY_SIMPLEX, 1, (255, 255, 255), 2, cv2.LINE_AA)\n",
    "        \n",
    "        # Show to screen\n",
    "        cv2.imshow('OpenCV Feed', image)\n",
    "\n",
    "        # Break gracefully\n",
    "        if cv2.waitKey(10) & 0xFF == ord('q'):\n",
    "            break\n",
    "    cap.release()\n",
    "    cv2.destroyAllWindows()"
   ]
  },
  {
   "cell_type": "code",
   "execution_count": 30,
   "metadata": {},
   "outputs": [],
   "source": [
    "cap.release()\n",
    "cv2.destroyAllWindows()"
   ]
  },
  {
   "cell_type": "code",
   "execution_count": 247,
   "metadata": {},
   "outputs": [
    {
     "data": {
      "text/plain": [
       "True"
      ]
     },
     "execution_count": 247,
     "metadata": {},
     "output_type": "execute_result"
    }
   ],
   "source": [
    "res[np.argmax(res)] > threshold"
   ]
  },
  {
   "cell_type": "code",
   "execution_count": null,
   "metadata": {},
   "outputs": [],
   "source": [
    "(num_sequences,30,1662)"
   ]
  },
  {
   "cell_type": "code",
   "execution_count": 240,
   "metadata": {},
   "outputs": [
    {
     "data": {
      "text/plain": [
       "array([[5.532469e-04, 9.974770e-01, 1.969744e-03]], dtype=float32)"
      ]
     },
     "execution_count": 240,
     "metadata": {},
     "output_type": "execute_result"
    }
   ],
   "source": [
    "model.predict(np.expand_dims(X_test[0], axis=0))"
   ]
  }
 ],
 "metadata": {
  "kernelspec": {
   "display_name": "Python 3 (ipykernel)",
   "language": "python",
   "name": "python3"
  },
  "language_info": {
   "codemirror_mode": {
    "name": "ipython",
    "version": 3
   },
   "file_extension": ".py",
   "mimetype": "text/x-python",
   "name": "python",
   "nbconvert_exporter": "python",
   "pygments_lexer": "ipython3",
   "version": "3.10.11"
  }
 },
 "nbformat": 4,
 "nbformat_minor": 4
}
